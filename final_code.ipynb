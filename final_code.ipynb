{
 "cells": [
  {
   "cell_type": "code",
   "execution_count": 1,
   "metadata": {},
   "outputs": [],
   "source": [
    "import numpy as np\n",
    "import matplotlib.pyplot as plt"
   ]
  },
  {
   "cell_type": "code",
   "execution_count": 2,
   "metadata": {},
   "outputs": [],
   "source": [
    "# f(x) = x^4\n",
    "def f(x):\n",
    "    return x**4\n",
    "\n",
    "# derivative of f(x)\n",
    "def df(x):\n",
    "    return 4*x**3\n",
    "\n",
    "\n",
    "def linear_search(lr=0.1,max_iteration=1000):\n",
    "    \n",
    "    fx_list = []\n",
    "    c1 = 0.5\n",
    "    c2 = 0.75\n",
    "    \n",
    "    x_init = 1\n",
    "    x = x_init\n",
    "    fx_list.append(f(x))\n",
    "    for i in range(max_iteration):\n",
    "\n",
    "        # descent directon\n",
    "        p = - df(x)\n",
    "        \n",
    "        # update x\n",
    "        x_new = x + lr * p\n",
    "        fx_list.append(f(x_new))\n",
    "\n",
    "        # sufficient decrease condition and curvature condition\n",
    "        if f(x_new) > f(x) + lr*c1*df(x)*p and df(x_new)*p < c2*df(x)*p:\n",
    "            break\n",
    "        else:\n",
    "            x = x_new\n",
    "            \n",
    "    print(\"x: \", x)\n",
    "    print(\"f(x): \",f(x))\n",
    "    print(\"df(x): \", df(x))\n",
    "            \n",
    "    return fx_list"
   ]
  },
  {
   "cell_type": "code",
   "execution_count": 3,
   "metadata": {},
   "outputs": [
    {
     "name": "stdout",
     "output_type": "stream",
     "text": [
      "x:  0.1090387674880599\n",
      "f(x):  0.0001413590882476063\n",
      "df(x):  0.005185645124357649\n"
     ]
    }
   ],
   "source": [
    "max_iteration = 100\n",
    "lr = 0.1\n",
    "fx_list1 = linear_search(max_iteration=max_iteration,lr=lr)"
   ]
  },
  {
   "cell_type": "code",
   "execution_count": 4,
   "metadata": {},
   "outputs": [
    {
     "name": "stdout",
     "output_type": "stream",
     "text": [
      "x:  0.33086845976494617\n",
      "f(x):  0.011984543028368077\n",
      "df(x):  0.14488589256143755\n"
     ]
    }
   ],
   "source": [
    "max_iteration = 100\n",
    "lr = 0.01\n",
    "fx_list2 = linear_search(max_iteration=max_iteration,lr=lr)"
   ]
  },
  {
   "cell_type": "code",
   "execution_count": 5,
   "metadata": {},
   "outputs": [
    {
     "data": {
      "image/png": "[encoded data removed]",
      "text/plain": [
       "<Figure size 432x288 with 1 Axes>"
      ]
     },
     "metadata": {
      "needs_background": "light"
     },
     "output_type": "display_data"
    }
   ],
   "source": [
    "plt.plot(fx_list1[:100])\n",
    "plt.plot(fx_list2[:100])\n",
    "plt.xlabel('Iteration')\n",
    "plt.ylabel('f(x)')\n",
    "plt.title('Linear Search on f(x)=x^4')\n",
    "plt.legend(['lr=0.1','lr=0.01'])\n",
    "plt.savefig('Q3')\n",
    "plt.show()"
   ]
  },
  {
   "cell_type": "code",
   "execution_count": 6,
   "metadata": {},
   "outputs": [
    {
     "data": {
      "text/latex": [
       "$\\displaystyle 256 a^{4} x^{12} - 256 a^{3} x^{10} + 96 a^{2} x^{8} - 16 a x^{6} + x^{4}$"
      ],
      "text/plain": [
       "256*a**4*x**12 - 256*a**3*x**10 + 96*a**2*x**8 - 16*a*x**6 + x**4"
      ]
     },
     "execution_count": 6,
     "metadata": {},
     "output_type": "execute_result"
    }
   ],
   "source": [
    "import sympy as sym\n",
    "x = sym.Symbol('x')\n",
    "a = sym.Symbol('a')\n",
    "expr = (x-a*(4*x**3))**4\n",
    "sym.expand(expr)"
   ]
  },
  {
   "cell_type": "code",
   "execution_count": 7,
   "metadata": {},
   "outputs": [
    {
     "data": {
      "text/latex": [
       "$\\displaystyle 1024 a^{3} x^{12} - 768 a^{2} x^{10} + 192 a x^{8} - 16 x^{6}$"
      ],
      "text/plain": [
       "1024*a**3*x**12 - 768*a**2*x**10 + 192*a*x**8 - 16*x**6"
      ]
     },
     "execution_count": 7,
     "metadata": {},
     "output_type": "execute_result"
    }
   ],
   "source": [
    "diff = sym.diff(expr,a)\n",
    "sym.expand(diff)"
   ]
  },
  {
   "cell_type": "code",
   "execution_count": 8,
   "metadata": {},
   "outputs": [
    {
     "data": {
      "text/latex": [
       "$\\displaystyle \\left\\{\\frac{1}{4 x^{2}}\\right\\}$"
      ],
      "text/plain": [
       "FiniteSet(1/(4*x**2))"
      ]
     },
     "execution_count": 8,
     "metadata": {},
     "output_type": "execute_result"
    }
   ],
   "source": [
    "roots = sym.solveset(diff, a)\n",
    "roots"
   ]
  },
  {
   "cell_type": "code",
   "execution_count": 9,
   "metadata": {},
   "outputs": [],
   "source": [
    "def linear_search_opt(max_iteration=100):\n",
    "    \n",
    "    fx_list = []\n",
    "    c1 = 0.5\n",
    "    c2 = 0.75\n",
    "    \n",
    "    x_init = 1\n",
    "    x = x_init\n",
    "    fx_list.append(f(x))\n",
    "    for i in range(max_iteration):\n",
    "\n",
    "        try:\n",
    "            # descent directon\n",
    "            p = - df(x)\n",
    "            a = 1 / (4*x**2) # using the second root, first root converges in 2 iteration\n",
    "\n",
    "            # update x\n",
    "            x_new = x + a*p\n",
    "            fx_list.append(f(x_new))\n",
    "\n",
    "            # sufficient decrease condition and curvature condition\n",
    "            if f(x_new) > f(x) + lr*c1*df(x)*p and df(x_new)*p < c2*df(x)*p:\n",
    "                break\n",
    "            else:\n",
    "                x = x_new\n",
    "        except:\n",
    "            fx_list.append(f(x))\n",
    "            \n",
    "    print(\"x: \", x)\n",
    "    print(\"f(x): \",f(x))\n",
    "    print(\"df(x): \", df(x))\n",
    "            \n",
    "    return fx_list"
   ]
  },
  {
   "cell_type": "code",
   "execution_count": 10,
   "metadata": {},
   "outputs": [
    {
     "name": "stdout",
     "output_type": "stream",
     "text": [
      "x:  0.0\n",
      "f(x):  0.0\n",
      "df(x):  0.0\n"
     ]
    }
   ],
   "source": [
    "max_iteration = 100\n",
    "lr = 0.01\n",
    "fx_list3 = linear_search_opt(max_iteration=max_iteration)"
   ]
  },
  {
   "cell_type": "code",
   "execution_count": 11,
   "metadata": {},
   "outputs": [
    {
     "data": {
      "image/png": "[encoded data removed]",
      "text/plain": [
       "<Figure size 432x288 with 1 Axes>"
      ]
     },
     "metadata": {
      "needs_background": "light"
     },
     "output_type": "display_data"
    }
   ],
   "source": [
    "plt.plot(fx_list1[:100])\n",
    "plt.plot(fx_list2[:100])\n",
    "plt.plot(fx_list3[:100])\n",
    "plt.xlabel('Iteration')\n",
    "plt.ylabel('f(x)')\n",
    "plt.title('Linear Search on f(x)=x^4')\n",
    "plt.legend(['lr=0.1','lr=0.01','optimal lr'])\n",
    "plt.savefig('Q4')\n",
    "plt.show()"
   ]
  },
  {
   "cell_type": "code",
   "execution_count": 12,
   "metadata": {},
   "outputs": [],
   "source": [
    "# second order derivative of f(x)\n",
    "def d2f(x):\n",
    "    return 12*x**2\n",
    "\n",
    "def linear_search_newton(lr=0.1,max_iteration=100):\n",
    "    \n",
    "    fx_list = []\n",
    "    c1 = 0.5\n",
    "    c2 = 0.75\n",
    "    \n",
    "    x_init = 1\n",
    "    x = x_init\n",
    "    fx_list.append(f(x))\n",
    "    for i in range(max_iteration):\n",
    "\n",
    "        # descent directon\n",
    "        p = - (d2f(x))**(-1) * df(x)\n",
    "        \n",
    "        # update x\n",
    "        x_new = x + lr * p\n",
    "        fx_list.append(f(x_new))\n",
    "\n",
    "        # sufficient decrease condition and curvature condition\n",
    "        if f(x_new) > f(x) + lr*c1*df(x)*p and df(x_new)*p < c2*df(x)*p:\n",
    "            break\n",
    "        else:\n",
    "            x = x_new\n",
    "            \n",
    "    print(\"x: \", x)\n",
    "    print(\"f(x): \",f(x))\n",
    "    print(\"df(x): \", df(x))\n",
    "            \n",
    "    return fx_list"
   ]
  },
  {
   "cell_type": "code",
   "execution_count": 13,
   "metadata": {},
   "outputs": [
    {
     "name": "stdout",
     "output_type": "stream",
     "text": [
      "x:  2.459654426579829e-18\n",
      "f(x):  3.6601288778164704e-71\n",
      "df(x):  5.952265225982842e-53\n"
     ]
    }
   ],
   "source": [
    "max_iteration = 100\n",
    "lr = 1\n",
    "fx_list4 = linear_search_newton(max_iteration=max_iteration,lr=lr)"
   ]
  },
  {
   "cell_type": "code",
   "execution_count": 14,
   "metadata": {},
   "outputs": [
    {
     "name": "stdout",
     "output_type": "stream",
     "text": [
      "x:  1.207467347241367e-08\n",
      "f(x):  2.1256980833223685e-32\n",
      "df(x):  7.041840388243481e-24\n"
     ]
    }
   ],
   "source": [
    "max_iteration = 100\n",
    "lr = 0.5\n",
    "fx_list5 = linear_search_newton(max_iteration=max_iteration,lr=lr)"
   ]
  },
  {
   "cell_type": "code",
   "execution_count": 15,
   "metadata": {},
   "outputs": [
    {
     "name": "stdout",
     "output_type": "stream",
     "text": [
      "x:  0.03370344681193333\n",
      "f(x):  1.290319532988043e-06\n",
      "df(x):  0.00015313799092277783\n"
     ]
    }
   ],
   "source": [
    "max_iteration = 100\n",
    "lr = 0.1\n",
    "fx_list6 = linear_search_newton(max_iteration=max_iteration,lr=lr)"
   ]
  },
  {
   "cell_type": "code",
   "execution_count": 16,
   "metadata": {},
   "outputs": [
    {
     "data": {
      "image/png": "[encoded data removed]",
      "text/plain": [
       "<Figure size 432x288 with 1 Axes>"
      ]
     },
     "metadata": {
      "needs_background": "light"
     },
     "output_type": "display_data"
    }
   ],
   "source": [
    "plt.plot(fx_list1[:100])\n",
    "plt.plot(fx_list2[:100])\n",
    "plt.plot(fx_list3[:100])\n",
    "plt.plot(fx_list4[:100])\n",
    "plt.plot(fx_list5[:100])\n",
    "plt.plot(fx_list6[:100])\n",
    "plt.xlabel('Iteration')\n",
    "plt.ylabel('f(x)')\n",
    "plt.title('Linear Search on f(x)=x^4')\n",
    "plt.legend(['Steepest lr=0.1','Steepest lr=0.01','optimal lr','Newton lr=1','Newton lr=0.5','Newton lr=0.1'])\n",
    "plt.savefig('Q5')\n",
    "plt.show()"
   ]
  },
  {
   "cell_type": "code",
   "execution_count": null,
   "metadata": {},
   "outputs": [],
   "source": []
  }
 ],
 "metadata": {
  "kernelspec": {
   "display_name": "Python 3",
   "language": "python",
   "name": "python3"
  },
  "language_info": {
   "codemirror_mode": {
    "name": "ipython",
    "version": 3
   },
   "file_extension": ".py",
   "mimetype": "text/x-python",
   "name": "python",
   "nbconvert_exporter": "python",
   "pygments_lexer": "ipython3",
   "version": "3.7.6"
  }
 },
 "nbformat": 4,
 "nbformat_minor": 4
}
